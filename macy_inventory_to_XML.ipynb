{
  "nbformat": 4,
  "nbformat_minor": 0,
  "metadata": {
    "colab": {
      "provenance": [],
      "authorship_tag": "ABX9TyN9f63I+isSjDdzyLE82Wpe",
      "include_colab_link": true
    },
    "kernelspec": {
      "name": "python3",
      "display_name": "Python 3"
    },
    "language_info": {
      "name": "python"
    }
  },
  "cells": [
    {
      "cell_type": "markdown",
      "metadata": {
        "id": "view-in-github",
        "colab_type": "text"
      },
      "source": [
        "<a href=\"https://colab.research.google.com/github/zmohammed-moes/Macys_XML/blob/main/macy_inventory_to_XML.ipynb\" target=\"_parent\"><img src=\"https://colab.research.google.com/assets/colab-badge.svg\" alt=\"Open In Colab\"/></a>"
      ]
    },
    {
      "cell_type": "code",
      "execution_count": 3,
      "metadata": {
        "id": "qnfvy2OB27-S"
      },
      "outputs": [],
      "source": [
        "# %% [code]\n",
        "import pandas as pd\n",
        "import xml.etree.ElementTree as ET\n",
        "\n",
        "# Reading the spreadsheet\n",
        "df_uploaded = pd.read_excel(\"/content/macyXML_template.xlsx\")\n",
        "\n",
        "# Creating the XML structure using the example format and the data from the spreadsheet\n",
        "root_element = ET.Element(\"advice_file\", {\n",
        "    \"xmlns:xsi\": \"http://www.w3.org/2001/XMLSchema-instance\",\n",
        "    \"xsi:noNamespaceSchemaLocation\": \"schema.xsd\"\n",
        "})\n",
        "\n",
        "# Setting common elements\n",
        "ET.SubElement(root_element, \"advice_file_control_number\").text = str(df_uploaded[\"advice_file_control_number\"].iloc[0])\n",
        "ET.SubElement(root_element, \"vendorMerchID\").text = df_uploaded[\"vendorMerchID\"].iloc[0]\n",
        "ET.SubElement(root_element, \"vendor\").text = str(df_uploaded[\"vendor\"].iloc[0])\n",
        "\n",
        "for _, row in df_uploaded.iterrows():\n",
        "    product_element = ET.SubElement(root_element, \"product\")\n",
        "\n",
        "    ET.SubElement(product_element, \"vendor_SKU\").text = str(row[\"vendor_SKU\"])\n",
        "    ET.SubElement(product_element, \"merchant_SKU\").text = str(row[\"merchant_SKU\"]) if not pd.isna(row[\"merchant_SKU\"]) else \"\"\n",
        "    ET.SubElement(product_element, \"UPC\").text = str(row[\"UPC\"])\n",
        "    ET.SubElement(product_element, \"available\").text = row[\"available\"]\n",
        "    ET.SubElement(product_element, \"qtyonhand\").text = str(row[\"qtyonhand\"])\n",
        "    ET.SubElement(product_element, \"description\").text = row[\"description\"]\n",
        "\n",
        "    warehouse_breakdown = ET.SubElement(product_element, \"warehouseBreakdown\")\n",
        "    warehouse_element = ET.SubElement(warehouse_breakdown, \"warehouse\", {\n",
        "        \"warehouse-id\": row[\"warehouse_id\"]\n",
        "    })\n",
        "    ET.SubElement(warehouse_element, \"qtyonhand\").text = str(row[\"warehouse_qtyonhand\"])\n",
        "\n",
        "ET.SubElement(root_element, \"advice_file_count\").text = str(len(df_uploaded))\n",
        "\n",
        "# Converting the XML structure to a string and saving it\n",
        "xml_output = ET.tostring(root_element, encoding=\"UTF-8\", method=\"xml\").decode()\n",
        "\n",
        "with open(\"/content/macyXML_template.xml\", \"w\", encoding=\"utf-8\") as xml_file:\n",
        "    xml_file.write(xml_output)"
      ]
    }
  ]
}